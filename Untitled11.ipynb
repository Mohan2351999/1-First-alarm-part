{
  "nbformat": 4,
  "nbformat_minor": 0,
  "metadata": {
    "colab": {
      "name": "Untitled11.ipynb",
      "version": "0.3.2",
      "provenance": [],
      "collapsed_sections": [],
      "include_colab_link": true
    },
    "kernelspec": {
      "name": "python3",
      "display_name": "Python 3"
    },
    "accelerator": "GPU"
  },
  "cells": [
    {
      "cell_type": "markdown",
      "metadata": {
        "id": "view-in-github",
        "colab_type": "text"
      },
      "source": [
        "<a href=\"https://colab.research.google.com/github/Mohan2351999/1-First-alarm-part/blob/master/Untitled11.ipynb\" target=\"_parent\"><img src=\"https://colab.research.google.com/assets/colab-badge.svg\" alt=\"Open In Colab\"/></a>"
      ]
    },
    {
      "metadata": {
        "id": "0fY7qcQAchql",
        "colab_type": "code",
        "outputId": "9fa943b0-0aef-44a0-da06-c0a9e4bce79d",
        "colab": {
          "base_uri": "https://localhost:8080/",
          "height": 377
        }
      },
      "cell_type": "code",
      "source": [
        "import numpy as np\n",
        "import pandas as pd\n",
        "\n",
        "data=pd.read_csv(\"jan-2011-revised.csv\")\n",
        "data1=pd.read_csv(\"feb-2011-revised.csv\")\n",
        "data2=pd.read_csv(\"march-2011-revised.csv\")\n",
        "data3=pd.read_csv(\"april-2011-revised.csv\")\n",
        "data4=pd.read_csv(\"may-2011-revised.csv\")\n",
        "\n",
        "data4.head(10)"
      ],
      "execution_count": 0,
      "outputs": [
        {
          "output_type": "execute_result",
          "data": {
            "text/html": [
              "<div>\n",
              "<style scoped>\n",
              "    .dataframe tbody tr th:only-of-type {\n",
              "        vertical-align: middle;\n",
              "    }\n",
              "\n",
              "    .dataframe tbody tr th {\n",
              "        vertical-align: top;\n",
              "    }\n",
              "\n",
              "    .dataframe thead th {\n",
              "        text-align: right;\n",
              "    }\n",
              "</style>\n",
              "<table border=\"1\" class=\"dataframe\">\n",
              "  <thead>\n",
              "    <tr style=\"text-align: right;\">\n",
              "      <th></th>\n",
              "      <th>Date</th>\n",
              "      <th>time</th>\n",
              "      <th>Fuel input (ton/min)</th>\n",
              "      <th>feed water pressure</th>\n",
              "      <th>Feed water temp.</th>\n",
              "      <th>input conveyor %</th>\n",
              "      <th>input conveyor (rpm)</th>\n",
              "      <th>incinerator exit</th>\n",
              "      <th>Steam header pressugre</th>\n",
              "      <th>steam header temp</th>\n",
              "      <th>Steam Flow</th>\n",
              "    </tr>\n",
              "  </thead>\n",
              "  <tbody>\n",
              "    <tr>\n",
              "      <th>0</th>\n",
              "      <td>5/7/2011</td>\n",
              "      <td>11:20:07</td>\n",
              "      <td>0.012</td>\n",
              "      <td>16.79</td>\n",
              "      <td>24.0</td>\n",
              "      <td>48.70</td>\n",
              "      <td>14.61</td>\n",
              "      <td>805.0</td>\n",
              "      <td>0.23</td>\n",
              "      <td>19.0</td>\n",
              "      <td>0.50</td>\n",
              "    </tr>\n",
              "    <tr>\n",
              "      <th>1</th>\n",
              "      <td>5/7/2011</td>\n",
              "      <td>11:21:07</td>\n",
              "      <td>0.012</td>\n",
              "      <td>16.76</td>\n",
              "      <td>24.0</td>\n",
              "      <td>48.75</td>\n",
              "      <td>14.63</td>\n",
              "      <td>826.0</td>\n",
              "      <td>0.29</td>\n",
              "      <td>20.0</td>\n",
              "      <td>0.52</td>\n",
              "    </tr>\n",
              "    <tr>\n",
              "      <th>2</th>\n",
              "      <td>5/7/2011</td>\n",
              "      <td>11:22:07</td>\n",
              "      <td>0.012</td>\n",
              "      <td>16.78</td>\n",
              "      <td>24.0</td>\n",
              "      <td>48.75</td>\n",
              "      <td>14.63</td>\n",
              "      <td>857.0</td>\n",
              "      <td>0.31</td>\n",
              "      <td>20.0</td>\n",
              "      <td>0.52</td>\n",
              "    </tr>\n",
              "    <tr>\n",
              "      <th>3</th>\n",
              "      <td>5/7/2011</td>\n",
              "      <td>11:23:07</td>\n",
              "      <td>0.012</td>\n",
              "      <td>16.77</td>\n",
              "      <td>24.0</td>\n",
              "      <td>48.75</td>\n",
              "      <td>14.63</td>\n",
              "      <td>886.0</td>\n",
              "      <td>0.37</td>\n",
              "      <td>20.0</td>\n",
              "      <td>0.55</td>\n",
              "    </tr>\n",
              "    <tr>\n",
              "      <th>4</th>\n",
              "      <td>5/7/2011</td>\n",
              "      <td>11:24:07</td>\n",
              "      <td>0.012</td>\n",
              "      <td>16.76</td>\n",
              "      <td>24.0</td>\n",
              "      <td>48.75</td>\n",
              "      <td>14.63</td>\n",
              "      <td>919.0</td>\n",
              "      <td>0.41</td>\n",
              "      <td>20.0</td>\n",
              "      <td>0.56</td>\n",
              "    </tr>\n",
              "    <tr>\n",
              "      <th>5</th>\n",
              "      <td>5/7/2011</td>\n",
              "      <td>11:25:07</td>\n",
              "      <td>0.012</td>\n",
              "      <td>16.77</td>\n",
              "      <td>24.0</td>\n",
              "      <td>48.73</td>\n",
              "      <td>14.62</td>\n",
              "      <td>930.0</td>\n",
              "      <td>0.49</td>\n",
              "      <td>20.0</td>\n",
              "      <td>0.48</td>\n",
              "    </tr>\n",
              "    <tr>\n",
              "      <th>6</th>\n",
              "      <td>5/7/2011</td>\n",
              "      <td>11:26:07</td>\n",
              "      <td>0.012</td>\n",
              "      <td>16.76</td>\n",
              "      <td>24.0</td>\n",
              "      <td>48.73</td>\n",
              "      <td>14.62</td>\n",
              "      <td>935.0</td>\n",
              "      <td>0.54</td>\n",
              "      <td>20.0</td>\n",
              "      <td>0.50</td>\n",
              "    </tr>\n",
              "    <tr>\n",
              "      <th>7</th>\n",
              "      <td>5/7/2011</td>\n",
              "      <td>11:27:07</td>\n",
              "      <td>0.012</td>\n",
              "      <td>16.78</td>\n",
              "      <td>24.0</td>\n",
              "      <td>48.70</td>\n",
              "      <td>14.61</td>\n",
              "      <td>946.0</td>\n",
              "      <td>0.61</td>\n",
              "      <td>20.0</td>\n",
              "      <td>0.50</td>\n",
              "    </tr>\n",
              "    <tr>\n",
              "      <th>8</th>\n",
              "      <td>5/7/2011</td>\n",
              "      <td>11:28:07</td>\n",
              "      <td>0.012</td>\n",
              "      <td>16.77</td>\n",
              "      <td>24.0</td>\n",
              "      <td>48.73</td>\n",
              "      <td>14.62</td>\n",
              "      <td>954.0</td>\n",
              "      <td>0.63</td>\n",
              "      <td>20.0</td>\n",
              "      <td>0.54</td>\n",
              "    </tr>\n",
              "    <tr>\n",
              "      <th>9</th>\n",
              "      <td>5/7/2011</td>\n",
              "      <td>11:29:07</td>\n",
              "      <td>0.012</td>\n",
              "      <td>16.76</td>\n",
              "      <td>24.0</td>\n",
              "      <td>48.50</td>\n",
              "      <td>14.55</td>\n",
              "      <td>961.0</td>\n",
              "      <td>0.71</td>\n",
              "      <td>27.0</td>\n",
              "      <td>0.51</td>\n",
              "    </tr>\n",
              "  </tbody>\n",
              "</table>\n",
              "</div>"
            ],
            "text/plain": [
              "       Date      time  Fuel input (ton/min)   feed water pressure  \\\n",
              "0  5/7/2011  11:20:07                 0.012                 16.79   \n",
              "1  5/7/2011  11:21:07                 0.012                 16.76   \n",
              "2  5/7/2011  11:22:07                 0.012                 16.78   \n",
              "3  5/7/2011  11:23:07                 0.012                 16.77   \n",
              "4  5/7/2011  11:24:07                 0.012                 16.76   \n",
              "5  5/7/2011  11:25:07                 0.012                 16.77   \n",
              "6  5/7/2011  11:26:07                 0.012                 16.76   \n",
              "7  5/7/2011  11:27:07                 0.012                 16.78   \n",
              "8  5/7/2011  11:28:07                 0.012                 16.77   \n",
              "9  5/7/2011  11:29:07                 0.012                 16.76   \n",
              "\n",
              "    Feed water temp.   input conveyor %  input conveyor (rpm)  \\\n",
              "0                24.0             48.70                 14.61   \n",
              "1                24.0             48.75                 14.63   \n",
              "2                24.0             48.75                 14.63   \n",
              "3                24.0             48.75                 14.63   \n",
              "4                24.0             48.75                 14.63   \n",
              "5                24.0             48.73                 14.62   \n",
              "6                24.0             48.73                 14.62   \n",
              "7                24.0             48.70                 14.61   \n",
              "8                24.0             48.73                 14.62   \n",
              "9                24.0             48.50                 14.55   \n",
              "\n",
              "     incinerator exit     Steam header pressugre    steam header temp   \\\n",
              "0                 805.0                      0.23                 19.0   \n",
              "1                 826.0                      0.29                 20.0   \n",
              "2                 857.0                      0.31                 20.0   \n",
              "3                 886.0                      0.37                 20.0   \n",
              "4                 919.0                      0.41                 20.0   \n",
              "5                 930.0                      0.49                 20.0   \n",
              "6                 935.0                      0.54                 20.0   \n",
              "7                 946.0                      0.61                 20.0   \n",
              "8                 954.0                      0.63                 20.0   \n",
              "9                 961.0                      0.71                 27.0   \n",
              "\n",
              "    Steam Flow   \n",
              "0          0.50  \n",
              "1          0.52  \n",
              "2          0.52  \n",
              "3          0.55  \n",
              "4          0.56  \n",
              "5          0.48  \n",
              "6          0.50  \n",
              "7          0.50  \n",
              "8          0.54  \n",
              "9          0.51  "
            ]
          },
          "metadata": {
            "tags": []
          },
          "execution_count": 41
        }
      ]
    },
    {
      "metadata": {
        "id": "kwK1i--PDq3q",
        "colab_type": "code",
        "outputId": "542f5b86-3def-4803-8c51-4afa2cb43d0c",
        "colab": {
          "base_uri": "https://localhost:8080/",
          "height": 101
        }
      },
      "cell_type": "code",
      "source": [
        "print(\"The size of jan\", data.shape)\n",
        "print(\"The size of feb\", data1.shape)\n",
        "print(\"The size of mar\", data2.shape)\n",
        "print(\"The size of april\", data3.shape)\n",
        "print(\"The size of may\", data4.shape)"
      ],
      "execution_count": 0,
      "outputs": [
        {
          "output_type": "stream",
          "text": [
            "The size of jan (29252, 11)\n",
            "The size of feb (19612, 11)\n",
            "The size of mar (30753, 12)\n",
            "The size of april (19982, 11)\n",
            "The size of may (29205, 11)\n"
          ],
          "name": "stdout"
        }
      ]
    },
    {
      "metadata": {
        "id": "jiWlziSD8TGM",
        "colab_type": "code",
        "outputId": "419202b8-d87b-40c7-858d-79d832efc0f7",
        "colab": {
          "base_uri": "https://localhost:8080/",
          "height": 229
        }
      },
      "cell_type": "code",
      "source": [
        "data2.head()"
      ],
      "execution_count": 0,
      "outputs": [
        {
          "output_type": "execute_result",
          "data": {
            "text/html": [
              "<div>\n",
              "<style scoped>\n",
              "    .dataframe tbody tr th:only-of-type {\n",
              "        vertical-align: middle;\n",
              "    }\n",
              "\n",
              "    .dataframe tbody tr th {\n",
              "        vertical-align: top;\n",
              "    }\n",
              "\n",
              "    .dataframe thead th {\n",
              "        text-align: right;\n",
              "    }\n",
              "</style>\n",
              "<table border=\"1\" class=\"dataframe\">\n",
              "  <thead>\n",
              "    <tr style=\"text-align: right;\">\n",
              "      <th></th>\n",
              "      <th>Date</th>\n",
              "      <th>Time</th>\n",
              "      <th>Fuel input (ton/min)</th>\n",
              "      <th>Fuel input (ton/h)</th>\n",
              "      <th>feed water pressure</th>\n",
              "      <th>Feed water temp.</th>\n",
              "      <th>input conveyor  %</th>\n",
              "      <th>input conveyor (rpm)</th>\n",
              "      <th>incinerator exit</th>\n",
              "      <th>Steam header pressure</th>\n",
              "      <th>steam header temp</th>\n",
              "      <th>Steam Flow</th>\n",
              "    </tr>\n",
              "  </thead>\n",
              "  <tbody>\n",
              "    <tr>\n",
              "      <th>0</th>\n",
              "      <td>3/1/2011</td>\n",
              "      <td>1:36:23</td>\n",
              "      <td>0.025</td>\n",
              "      <td>1.476</td>\n",
              "      <td>16.13</td>\n",
              "      <td>34</td>\n",
              "      <td>98.38</td>\n",
              "      <td>29.51</td>\n",
              "      <td>825</td>\n",
              "      <td>9.84</td>\n",
              "      <td>181</td>\n",
              "      <td>4.93</td>\n",
              "    </tr>\n",
              "    <tr>\n",
              "      <th>1</th>\n",
              "      <td>3/1/2011</td>\n",
              "      <td>1:37:23</td>\n",
              "      <td>0.025</td>\n",
              "      <td>1.475</td>\n",
              "      <td>16.14</td>\n",
              "      <td>34</td>\n",
              "      <td>98.30</td>\n",
              "      <td>29.49</td>\n",
              "      <td>850</td>\n",
              "      <td>9.89</td>\n",
              "      <td>181</td>\n",
              "      <td>5.32</td>\n",
              "    </tr>\n",
              "    <tr>\n",
              "      <th>2</th>\n",
              "      <td>3/1/2011</td>\n",
              "      <td>1:38:23</td>\n",
              "      <td>0.020</td>\n",
              "      <td>1.175</td>\n",
              "      <td>16.17</td>\n",
              "      <td>34</td>\n",
              "      <td>78.35</td>\n",
              "      <td>23.50</td>\n",
              "      <td>883</td>\n",
              "      <td>9.89</td>\n",
              "      <td>181</td>\n",
              "      <td>5.79</td>\n",
              "    </tr>\n",
              "    <tr>\n",
              "      <th>3</th>\n",
              "      <td>3/1/2011</td>\n",
              "      <td>1:39:23</td>\n",
              "      <td>0.020</td>\n",
              "      <td>1.176</td>\n",
              "      <td>16.27</td>\n",
              "      <td>34</td>\n",
              "      <td>78.38</td>\n",
              "      <td>23.51</td>\n",
              "      <td>917</td>\n",
              "      <td>9.94</td>\n",
              "      <td>181</td>\n",
              "      <td>6.27</td>\n",
              "    </tr>\n",
              "    <tr>\n",
              "      <th>4</th>\n",
              "      <td>3/1/2011</td>\n",
              "      <td>1:40:23</td>\n",
              "      <td>0.018</td>\n",
              "      <td>1.105</td>\n",
              "      <td>16.26</td>\n",
              "      <td>34</td>\n",
              "      <td>73.65</td>\n",
              "      <td>22.10</td>\n",
              "      <td>954</td>\n",
              "      <td>10.00</td>\n",
              "      <td>182</td>\n",
              "      <td>6.74</td>\n",
              "    </tr>\n",
              "  </tbody>\n",
              "</table>\n",
              "</div>"
            ],
            "text/plain": [
              "       Date     Time  Fuel input (ton/min)  Fuel input (ton/h)  \\\n",
              "0  3/1/2011  1:36:23                 0.025               1.476   \n",
              "1  3/1/2011  1:37:23                 0.025               1.475   \n",
              "2  3/1/2011  1:38:23                 0.020               1.175   \n",
              "3  3/1/2011  1:39:23                 0.020               1.176   \n",
              "4  3/1/2011  1:40:23                 0.018               1.105   \n",
              "\n",
              "   feed water pressure   Feed water temp.     input conveyor  %  \\\n",
              "0                16.13                  34                98.38   \n",
              "1                16.14                  34                98.30   \n",
              "2                16.17                  34                78.35   \n",
              "3                16.27                  34                78.38   \n",
              "4                16.26                  34                73.65   \n",
              "\n",
              "    input conveyor (rpm)  incinerator exit   Steam header pressure  \\\n",
              "0                  29.51               825                    9.84   \n",
              "1                  29.49               850                    9.89   \n",
              "2                  23.50               883                    9.89   \n",
              "3                  23.51               917                    9.94   \n",
              "4                  22.10               954                   10.00   \n",
              "\n",
              "    steam header temp   Steam Flow   \n",
              "0                 181          4.93  \n",
              "1                 181          5.32  \n",
              "2                 181          5.79  \n",
              "3                 181          6.27  \n",
              "4                 182          6.74  "
            ]
          },
          "metadata": {
            "tags": []
          },
          "execution_count": 43
        }
      ]
    },
    {
      "metadata": {
        "id": "fVzv_ZiOiE_H",
        "colab_type": "code",
        "colab": {}
      },
      "cell_type": "code",
      "source": [
        "data2=data2.drop(columns=\"Fuel input (ton/h)\")"
      ],
      "execution_count": 0,
      "outputs": []
    },
    {
      "metadata": {
        "id": "hfMReXIB8_l-",
        "colab_type": "code",
        "outputId": "0fe8c781-667a-4bc1-bfe3-8e3bbc44535e",
        "colab": {
          "base_uri": "https://localhost:8080/",
          "height": 377
        }
      },
      "cell_type": "code",
      "source": [
        "data2.head(10)"
      ],
      "execution_count": 0,
      "outputs": [
        {
          "output_type": "execute_result",
          "data": {
            "text/html": [
              "<div>\n",
              "<style scoped>\n",
              "    .dataframe tbody tr th:only-of-type {\n",
              "        vertical-align: middle;\n",
              "    }\n",
              "\n",
              "    .dataframe tbody tr th {\n",
              "        vertical-align: top;\n",
              "    }\n",
              "\n",
              "    .dataframe thead th {\n",
              "        text-align: right;\n",
              "    }\n",
              "</style>\n",
              "<table border=\"1\" class=\"dataframe\">\n",
              "  <thead>\n",
              "    <tr style=\"text-align: right;\">\n",
              "      <th></th>\n",
              "      <th>Date</th>\n",
              "      <th>Time</th>\n",
              "      <th>Fuel input (ton/min)</th>\n",
              "      <th>feed water pressure</th>\n",
              "      <th>Feed water temp.</th>\n",
              "      <th>input conveyor  %</th>\n",
              "      <th>input conveyor (rpm)</th>\n",
              "      <th>incinerator exit</th>\n",
              "      <th>Steam header pressure</th>\n",
              "      <th>steam header temp</th>\n",
              "      <th>Steam Flow</th>\n",
              "    </tr>\n",
              "  </thead>\n",
              "  <tbody>\n",
              "    <tr>\n",
              "      <th>0</th>\n",
              "      <td>3/1/2011</td>\n",
              "      <td>1:36:23</td>\n",
              "      <td>0.025</td>\n",
              "      <td>16.13</td>\n",
              "      <td>34</td>\n",
              "      <td>98.38</td>\n",
              "      <td>29.51</td>\n",
              "      <td>825</td>\n",
              "      <td>9.84</td>\n",
              "      <td>181</td>\n",
              "      <td>4.93</td>\n",
              "    </tr>\n",
              "    <tr>\n",
              "      <th>1</th>\n",
              "      <td>3/1/2011</td>\n",
              "      <td>1:37:23</td>\n",
              "      <td>0.025</td>\n",
              "      <td>16.14</td>\n",
              "      <td>34</td>\n",
              "      <td>98.30</td>\n",
              "      <td>29.49</td>\n",
              "      <td>850</td>\n",
              "      <td>9.89</td>\n",
              "      <td>181</td>\n",
              "      <td>5.32</td>\n",
              "    </tr>\n",
              "    <tr>\n",
              "      <th>2</th>\n",
              "      <td>3/1/2011</td>\n",
              "      <td>1:38:23</td>\n",
              "      <td>0.020</td>\n",
              "      <td>16.17</td>\n",
              "      <td>34</td>\n",
              "      <td>78.35</td>\n",
              "      <td>23.50</td>\n",
              "      <td>883</td>\n",
              "      <td>9.89</td>\n",
              "      <td>181</td>\n",
              "      <td>5.79</td>\n",
              "    </tr>\n",
              "    <tr>\n",
              "      <th>3</th>\n",
              "      <td>3/1/2011</td>\n",
              "      <td>1:39:23</td>\n",
              "      <td>0.020</td>\n",
              "      <td>16.27</td>\n",
              "      <td>34</td>\n",
              "      <td>78.38</td>\n",
              "      <td>23.51</td>\n",
              "      <td>917</td>\n",
              "      <td>9.94</td>\n",
              "      <td>181</td>\n",
              "      <td>6.27</td>\n",
              "    </tr>\n",
              "    <tr>\n",
              "      <th>4</th>\n",
              "      <td>3/1/2011</td>\n",
              "      <td>1:40:23</td>\n",
              "      <td>0.018</td>\n",
              "      <td>16.26</td>\n",
              "      <td>34</td>\n",
              "      <td>73.65</td>\n",
              "      <td>22.10</td>\n",
              "      <td>954</td>\n",
              "      <td>10.00</td>\n",
              "      <td>182</td>\n",
              "      <td>6.74</td>\n",
              "    </tr>\n",
              "    <tr>\n",
              "      <th>5</th>\n",
              "      <td>3/1/2011</td>\n",
              "      <td>1:41:23</td>\n",
              "      <td>0.018</td>\n",
              "      <td>16.26</td>\n",
              "      <td>34</td>\n",
              "      <td>73.38</td>\n",
              "      <td>22.01</td>\n",
              "      <td>993</td>\n",
              "      <td>10.02</td>\n",
              "      <td>182</td>\n",
              "      <td>7.15</td>\n",
              "    </tr>\n",
              "    <tr>\n",
              "      <th>6</th>\n",
              "      <td>3/1/2011</td>\n",
              "      <td>1:42:23</td>\n",
              "      <td>0.018</td>\n",
              "      <td>16.26</td>\n",
              "      <td>34</td>\n",
              "      <td>73.40</td>\n",
              "      <td>22.02</td>\n",
              "      <td>1029</td>\n",
              "      <td>10.07</td>\n",
              "      <td>182</td>\n",
              "      <td>7.54</td>\n",
              "    </tr>\n",
              "    <tr>\n",
              "      <th>7</th>\n",
              "      <td>3/1/2011</td>\n",
              "      <td>1:43:23</td>\n",
              "      <td>0.018</td>\n",
              "      <td>16.25</td>\n",
              "      <td>33</td>\n",
              "      <td>73.63</td>\n",
              "      <td>22.09</td>\n",
              "      <td>1047</td>\n",
              "      <td>10.10</td>\n",
              "      <td>182</td>\n",
              "      <td>7.78</td>\n",
              "    </tr>\n",
              "    <tr>\n",
              "      <th>8</th>\n",
              "      <td>3/1/2011</td>\n",
              "      <td>1:44:23</td>\n",
              "      <td>0.015</td>\n",
              "      <td>16.28</td>\n",
              "      <td>33</td>\n",
              "      <td>58.63</td>\n",
              "      <td>17.59</td>\n",
              "      <td>1053</td>\n",
              "      <td>10.09</td>\n",
              "      <td>183</td>\n",
              "      <td>7.72</td>\n",
              "    </tr>\n",
              "    <tr>\n",
              "      <th>9</th>\n",
              "      <td>3/1/2011</td>\n",
              "      <td>1:45:23</td>\n",
              "      <td>0.015</td>\n",
              "      <td>16.24</td>\n",
              "      <td>32</td>\n",
              "      <td>58.67</td>\n",
              "      <td>17.60</td>\n",
              "      <td>1058</td>\n",
              "      <td>10.19</td>\n",
              "      <td>183</td>\n",
              "      <td>7.59</td>\n",
              "    </tr>\n",
              "  </tbody>\n",
              "</table>\n",
              "</div>"
            ],
            "text/plain": [
              "       Date     Time  Fuel input (ton/min)  feed water pressure  \\\n",
              "0  3/1/2011  1:36:23                 0.025                16.13   \n",
              "1  3/1/2011  1:37:23                 0.025                16.14   \n",
              "2  3/1/2011  1:38:23                 0.020                16.17   \n",
              "3  3/1/2011  1:39:23                 0.020                16.27   \n",
              "4  3/1/2011  1:40:23                 0.018                16.26   \n",
              "5  3/1/2011  1:41:23                 0.018                16.26   \n",
              "6  3/1/2011  1:42:23                 0.018                16.26   \n",
              "7  3/1/2011  1:43:23                 0.018                16.25   \n",
              "8  3/1/2011  1:44:23                 0.015                16.28   \n",
              "9  3/1/2011  1:45:23                 0.015                16.24   \n",
              "\n",
              "    Feed water temp.     input conveyor  %   input conveyor (rpm)  \\\n",
              "0                  34                98.38                  29.51   \n",
              "1                  34                98.30                  29.49   \n",
              "2                  34                78.35                  23.50   \n",
              "3                  34                78.38                  23.51   \n",
              "4                  34                73.65                  22.10   \n",
              "5                  34                73.38                  22.01   \n",
              "6                  34                73.40                  22.02   \n",
              "7                  33                73.63                  22.09   \n",
              "8                  33                58.63                  17.59   \n",
              "9                  32                58.67                  17.60   \n",
              "\n",
              "   incinerator exit   Steam header pressure   steam header temp   Steam Flow   \n",
              "0               825                    9.84                 181          4.93  \n",
              "1               850                    9.89                 181          5.32  \n",
              "2               883                    9.89                 181          5.79  \n",
              "3               917                    9.94                 181          6.27  \n",
              "4               954                   10.00                 182          6.74  \n",
              "5               993                   10.02                 182          7.15  \n",
              "6              1029                   10.07                 182          7.54  \n",
              "7              1047                   10.10                 182          7.78  \n",
              "8              1053                   10.09                 183          7.72  \n",
              "9              1058                   10.19                 183          7.59  "
            ]
          },
          "metadata": {
            "tags": []
          },
          "execution_count": 45
        }
      ]
    },
    {
      "metadata": {
        "id": "AwWwVM8Z--Du",
        "colab_type": "code",
        "colab": {}
      },
      "cell_type": "code",
      "source": [
        "import matplotlib.pyplot as plt\n",
        "import tensorflow as tf\n",
        "import numpy as np\n",
        "import pandas as pd\n",
        "import os\n",
        "from sklearn.preprocessing import MinMaxScaler"
      ],
      "execution_count": 0,
      "outputs": []
    },
    {
      "metadata": {
        "id": "Jv6AZHPyWIW3",
        "colab_type": "code",
        "outputId": "1a19cb6b-2273-448a-bd4a-0b15c959a3a6",
        "colab": {
          "base_uri": "https://localhost:8080/",
          "height": 101
        }
      },
      "cell_type": "code",
      "source": [
        "print(\"The size of jan\", data.shape)\n",
        "print(\"The size of feb\", data1.shape)\n",
        "print(\"The size of mar\", data2.shape)\n",
        "print(\"The size of april\", data3.shape)\n",
        "print(\"The size of may\", data4.shape)"
      ],
      "execution_count": 0,
      "outputs": [
        {
          "output_type": "stream",
          "text": [
            "The size of jan (29252, 11)\n",
            "The size of feb (19612, 11)\n",
            "The size of mar (30753, 11)\n",
            "The size of april (19982, 11)\n",
            "The size of may (29205, 11)\n"
          ],
          "name": "stdout"
        }
      ]
    },
    {
      "metadata": {
        "id": "Eair-I3hWMBH",
        "colab_type": "code",
        "outputId": "8b526ed2-19ce-4cde-a2ea-8070587d5d51",
        "colab": {
          "base_uri": "https://localhost:8080/",
          "height": 437
        }
      },
      "cell_type": "code",
      "source": [
        "print(data.columns)\n",
        "print(data1.columns)\n",
        "print(data2.columns)\n",
        "print(data3.columns)\n",
        "print(data4.columns)"
      ],
      "execution_count": 0,
      "outputs": [
        {
          "output_type": "stream",
          "text": [
            "Index(['Date', 'time', 'Fuel input (ton/min)', ' feed water pressure',\n",
            "       ' Feed water temp. ', 'input conveyor %', 'input conveyor (rpm)',\n",
            "       '  incinerator exit  ', ' Steam header pressugre ',\n",
            "       ' steam header temp ', ' Steam Flow '],\n",
            "      dtype='object')\n",
            "Index(['Date', 'time', 'Fuel input (ton/min)', ' feed water pressure',\n",
            "       ' Feed water temp. ', '  input conveyor %', ' input conveyor (rpm)',\n",
            "       '  incinerator exit  ', ' Steam header pressugre ',\n",
            "       ' steam header temp ', ' Steam Flow '],\n",
            "      dtype='object')\n",
            "Index(['Date', 'Time', 'Fuel input (ton/min)', 'feed water pressure',\n",
            "       ' Feed water temp. ', '  input conveyor  %', ' input conveyor (rpm)',\n",
            "       'incinerator exit', ' Steam header pressure', ' steam header temp',\n",
            "       ' Steam Flow '],\n",
            "      dtype='object')\n",
            "Index(['Date', 'time', 'Fuel input (ton/min)', ' feed water pressure',\n",
            "       ' Feed water temp. ', ' conveyor %', 'conveyor (rpm)',\n",
            "       '  incinerator exit  ', ' Steam header pressugre ',\n",
            "       ' steam header temp ', ' Steam Flow '],\n",
            "      dtype='object')\n",
            "Index(['Date', 'time', 'Fuel input (ton/min)', ' feed water pressure',\n",
            "       ' Feed water temp. ', 'input conveyor %', 'input conveyor (rpm)',\n",
            "       '  incinerator exit  ', ' Steam header pressugre ',\n",
            "       ' steam header temp ', ' Steam Flow '],\n",
            "      dtype='object')\n"
          ],
          "name": "stdout"
        }
      ]
    },
    {
      "metadata": {
        "id": "EFB66ODBWRaX",
        "colab_type": "code",
        "colab": {}
      },
      "cell_type": "code",
      "source": [
        "data1.columns=['Date', 'time', 'Fuel input (ton/min)', ' feed water pressure',\n",
        "       ' Feed water temp. ', 'input conveyor %', 'input conveyor (rpm)',\n",
        "       '  incinerator exit  ', ' Steam header pressure ',\n",
        "       ' steam header temp ', ' Steam Flow ']\n",
        "data2.columns=['Date', 'time', 'Fuel input (ton/min)', ' feed water pressure',\n",
        "       ' Feed water temp. ', 'input conveyor %', 'input conveyor (rpm)',\n",
        "       '  incinerator exit  ', ' Steam header pressugre ',\n",
        "       ' steam header temp ', ' Steam Flow ']\n",
        "data3.columns=['Date', 'time', 'Fuel input (ton/min)', ' feed water pressure',\n",
        "       ' Feed water temp. ', 'input conveyor %', 'input conveyor (rpm)',\n",
        "       '  incinerator exit  ', ' Steam header pressugre ',\n",
        "       ' steam header temp ', ' Steam Flow ']\n",
        "data4.columns=['Date', 'time', 'Fuel input (ton/min)', ' feed water pressure',\n",
        "       ' Feed water temp. ', 'input conveyor %', 'input conveyor (rpm)',\n",
        "       '  incinerator exit  ', ' Steam header pressugre ',\n",
        "       ' steam header temp ', ' Steam Flow ']\n",
        "data.columns=['Date', 'time', 'Fuel input (ton/min)', ' feed water pressure',\n",
        "       ' Feed water temp. ', 'input conveyor %', 'input conveyor (rpm)',\n",
        "       '  incinerator exit  ', ' Steam header pressugre ',\n",
        "       ' steam header temp ', ' Steam Flow ']"
      ],
      "execution_count": 0,
      "outputs": []
    },
    {
      "metadata": {
        "id": "mMyHdGekWr23",
        "colab_type": "code",
        "outputId": "cd64be46-f197-49b2-bdf6-4e5d2b8eaf22",
        "colab": {
          "base_uri": "https://localhost:8080/",
          "height": 364
        }
      },
      "cell_type": "code",
      "source": [
        "data[' feed water pressure'].plot()"
      ],
      "execution_count": 0,
      "outputs": [
        {
          "output_type": "execute_result",
          "data": {
            "text/plain": [
              "<matplotlib.axes._subplots.AxesSubplot at 0x7f596f54bb00>"
            ]
          },
          "metadata": {
            "tags": []
          },
          "execution_count": 50
        },
        {
          "output_type": "display_data",
          "data": {
            "image/png": "[encoded data removed]",
            "text/plain": [
              "<Figure size 576x396 with 1 Axes>"
            ]
          },
          "metadata": {
            "tags": []
          }
        }
      ]
    },
    {
      "metadata": {
        "id": "W6Nz2dDLYoGa",
        "colab_type": "code",
        "outputId": "37e9026e-79e6-4cbe-ed1d-dfb3dadfa3a2",
        "colab": {
          "base_uri": "https://localhost:8080/",
          "height": 364
        }
      },
      "cell_type": "code",
      "source": [
        "data[' Steam Flow '].plot()"
      ],
      "execution_count": 0,
      "outputs": [
        {
          "output_type": "execute_result",
          "data": {
            "text/plain": [
              "<matplotlib.axes._subplots.AxesSubplot at 0x7f5971b6f828>"
            ]
          },
          "metadata": {
            "tags": []
          },
          "execution_count": 51
        },
        {
          "output_type": "display_data",
          "data": {
            "image/png": "[encoded data removed]",
            "text/plain": [
              "<Figure size 576x396 with 1 Axes>"
            ]
          },
          "metadata": {
            "tags": []
          }
        }
      ]
    },
    {
      "metadata": {
        "id": "8iBS0RtFdeQZ",
        "colab_type": "code",
        "outputId": "5c3e1169-a9b6-4ab8-a623-ccd075c1209a",
        "colab": {
          "base_uri": "https://localhost:8080/",
          "height": 34
        }
      },
      "cell_type": "code",
      "source": [
        "data.values.shape"
      ],
      "execution_count": 0,
      "outputs": [
        {
          "output_type": "execute_result",
          "data": {
            "text/plain": [
              "(29252, 11)"
            ]
          },
          "metadata": {
            "tags": []
          },
          "execution_count": 52
        }
      ]
    },
    {
      "metadata": {
        "id": "4IXKW4MGdpx5",
        "colab_type": "code",
        "outputId": "79fdf481-2ed1-4392-998c-cc10719f9335",
        "colab": {
          "base_uri": "https://localhost:8080/",
          "height": 229
        }
      },
      "cell_type": "code",
      "source": [
        "data.head()"
      ],
      "execution_count": 0,
      "outputs": [
        {
          "output_type": "execute_result",
          "data": {
            "text/html": [
              "<div>\n",
              "<style scoped>\n",
              "    .dataframe tbody tr th:only-of-type {\n",
              "        vertical-align: middle;\n",
              "    }\n",
              "\n",
              "    .dataframe tbody tr th {\n",
              "        vertical-align: top;\n",
              "    }\n",
              "\n",
              "    .dataframe thead th {\n",
              "        text-align: right;\n",
              "    }\n",
              "</style>\n",
              "<table border=\"1\" class=\"dataframe\">\n",
              "  <thead>\n",
              "    <tr style=\"text-align: right;\">\n",
              "      <th></th>\n",
              "      <th>Date</th>\n",
              "      <th>time</th>\n",
              "      <th>Fuel input (ton/min)</th>\n",
              "      <th>feed water pressure</th>\n",
              "      <th>Feed water temp.</th>\n",
              "      <th>input conveyor %</th>\n",
              "      <th>input conveyor (rpm)</th>\n",
              "      <th>incinerator exit</th>\n",
              "      <th>Steam header pressugre</th>\n",
              "      <th>steam header temp</th>\n",
              "      <th>Steam Flow</th>\n",
              "    </tr>\n",
              "  </thead>\n",
              "  <tbody>\n",
              "    <tr>\n",
              "      <th>0</th>\n",
              "      <td>1/1/2011</td>\n",
              "      <td>00:00:29</td>\n",
              "      <td>15.786001</td>\n",
              "      <td>9.0</td>\n",
              "      <td>0.350</td>\n",
              "      <td>0.1050</td>\n",
              "      <td>366.0</td>\n",
              "      <td>8.542001</td>\n",
              "      <td>177.0</td>\n",
              "      <td>0.0368</td>\n",
              "      <td>0.04</td>\n",
              "    </tr>\n",
              "    <tr>\n",
              "      <th>1</th>\n",
              "      <td>1/1/2011</td>\n",
              "      <td>00:01:20</td>\n",
              "      <td>15.786001</td>\n",
              "      <td>10.0</td>\n",
              "      <td>0.350</td>\n",
              "      <td>0.1050</td>\n",
              "      <td>363.0</td>\n",
              "      <td>8.496000</td>\n",
              "      <td>178.0</td>\n",
              "      <td>0.0368</td>\n",
              "      <td>0.04</td>\n",
              "    </tr>\n",
              "    <tr>\n",
              "      <th>2</th>\n",
              "      <td>1/1/2011</td>\n",
              "      <td>00:02:20</td>\n",
              "      <td>15.784000</td>\n",
              "      <td>9.0</td>\n",
              "      <td>0.400</td>\n",
              "      <td>0.1200</td>\n",
              "      <td>358.0</td>\n",
              "      <td>8.440001</td>\n",
              "      <td>177.0</td>\n",
              "      <td>0.0368</td>\n",
              "      <td>0.04</td>\n",
              "    </tr>\n",
              "    <tr>\n",
              "      <th>3</th>\n",
              "      <td>1/1/2011</td>\n",
              "      <td>00:03:20</td>\n",
              "      <td>15.786001</td>\n",
              "      <td>9.0</td>\n",
              "      <td>0.350</td>\n",
              "      <td>0.1050</td>\n",
              "      <td>354.0</td>\n",
              "      <td>8.390000</td>\n",
              "      <td>176.0</td>\n",
              "      <td>0.0384</td>\n",
              "      <td>0.04</td>\n",
              "    </tr>\n",
              "    <tr>\n",
              "      <th>4</th>\n",
              "      <td>1/1/2011</td>\n",
              "      <td>00:04:20</td>\n",
              "      <td>15.784000</td>\n",
              "      <td>10.0</td>\n",
              "      <td>0.375</td>\n",
              "      <td>0.1125</td>\n",
              "      <td>350.0</td>\n",
              "      <td>8.364000</td>\n",
              "      <td>176.0</td>\n",
              "      <td>0.0368</td>\n",
              "      <td>0.04</td>\n",
              "    </tr>\n",
              "  </tbody>\n",
              "</table>\n",
              "</div>"
            ],
            "text/plain": [
              "       Date      time  Fuel input (ton/min)   feed water pressure  \\\n",
              "0  1/1/2011  00:00:29             15.786001                   9.0   \n",
              "1  1/1/2011  00:01:20             15.786001                  10.0   \n",
              "2  1/1/2011  00:02:20             15.784000                   9.0   \n",
              "3  1/1/2011  00:03:20             15.786001                   9.0   \n",
              "4  1/1/2011  00:04:20             15.784000                  10.0   \n",
              "\n",
              "    Feed water temp.   input conveyor %  input conveyor (rpm)  \\\n",
              "0               0.350            0.1050                 366.0   \n",
              "1               0.350            0.1050                 363.0   \n",
              "2               0.400            0.1200                 358.0   \n",
              "3               0.350            0.1050                 354.0   \n",
              "4               0.375            0.1125                 350.0   \n",
              "\n",
              "     incinerator exit     Steam header pressugre    steam header temp   \\\n",
              "0              8.542001                     177.0               0.0368   \n",
              "1              8.496000                     178.0               0.0368   \n",
              "2              8.440001                     177.0               0.0368   \n",
              "3              8.390000                     176.0               0.0384   \n",
              "4              8.364000                     176.0               0.0368   \n",
              "\n",
              "    Steam Flow   \n",
              "0          0.04  \n",
              "1          0.04  \n",
              "2          0.04  \n",
              "3          0.04  \n",
              "4          0.04  "
            ]
          },
          "metadata": {
            "tags": []
          },
          "execution_count": 53
        }
      ]
    },
    {
      "metadata": {
        "id": "hX9tqZ_pe6o5",
        "colab_type": "code",
        "outputId": "c4e9589f-8568-430b-adbe-81d219896524",
        "colab": {
          "base_uri": "https://localhost:8080/",
          "height": 195
        }
      },
      "cell_type": "code",
      "source": [
        "data=data.drop(columns=\"Date\")\n",
        "data=data.drop(columns=\"time\")\n",
        "data=data.drop(columns=\"Fuel input (ton/min)\")\n",
        "data=data.drop(columns=\"input conveyor %\")\n",
        "\n",
        "data.head()"
      ],
      "execution_count": 0,
      "outputs": [
        {
          "output_type": "execute_result",
          "data": {
            "text/html": [
              "<div>\n",
              "<style scoped>\n",
              "    .dataframe tbody tr th:only-of-type {\n",
              "        vertical-align: middle;\n",
              "    }\n",
              "\n",
              "    .dataframe tbody tr th {\n",
              "        vertical-align: top;\n",
              "    }\n",
              "\n",
              "    .dataframe thead th {\n",
              "        text-align: right;\n",
              "    }\n",
              "</style>\n",
              "<table border=\"1\" class=\"dataframe\">\n",
              "  <thead>\n",
              "    <tr style=\"text-align: right;\">\n",
              "      <th></th>\n",
              "      <th>feed water pressure</th>\n",
              "      <th>Feed water temp.</th>\n",
              "      <th>input conveyor (rpm)</th>\n",
              "      <th>incinerator exit</th>\n",
              "      <th>Steam header pressugre</th>\n",
              "      <th>steam header temp</th>\n",
              "      <th>Steam Flow</th>\n",
              "    </tr>\n",
              "  </thead>\n",
              "  <tbody>\n",
              "    <tr>\n",
              "      <th>0</th>\n",
              "      <td>9.0</td>\n",
              "      <td>0.350</td>\n",
              "      <td>366.0</td>\n",
              "      <td>8.542001</td>\n",
              "      <td>177.0</td>\n",
              "      <td>0.0368</td>\n",
              "      <td>0.04</td>\n",
              "    </tr>\n",
              "    <tr>\n",
              "      <th>1</th>\n",
              "      <td>10.0</td>\n",
              "      <td>0.350</td>\n",
              "      <td>363.0</td>\n",
              "      <td>8.496000</td>\n",
              "      <td>178.0</td>\n",
              "      <td>0.0368</td>\n",
              "      <td>0.04</td>\n",
              "    </tr>\n",
              "    <tr>\n",
              "      <th>2</th>\n",
              "      <td>9.0</td>\n",
              "      <td>0.400</td>\n",
              "      <td>358.0</td>\n",
              "      <td>8.440001</td>\n",
              "      <td>177.0</td>\n",
              "      <td>0.0368</td>\n",
              "      <td>0.04</td>\n",
              "    </tr>\n",
              "    <tr>\n",
              "      <th>3</th>\n",
              "      <td>9.0</td>\n",
              "      <td>0.350</td>\n",
              "      <td>354.0</td>\n",
              "      <td>8.390000</td>\n",
              "      <td>176.0</td>\n",
              "      <td>0.0384</td>\n",
              "      <td>0.04</td>\n",
              "    </tr>\n",
              "    <tr>\n",
              "      <th>4</th>\n",
              "      <td>10.0</td>\n",
              "      <td>0.375</td>\n",
              "      <td>350.0</td>\n",
              "      <td>8.364000</td>\n",
              "      <td>176.0</td>\n",
              "      <td>0.0368</td>\n",
              "      <td>0.04</td>\n",
              "    </tr>\n",
              "  </tbody>\n",
              "</table>\n",
              "</div>"
            ],
            "text/plain": [
              "    feed water pressure   Feed water temp.   input conveyor (rpm)  \\\n",
              "0                   9.0               0.350                 366.0   \n",
              "1                  10.0               0.350                 363.0   \n",
              "2                   9.0               0.400                 358.0   \n",
              "3                   9.0               0.350                 354.0   \n",
              "4                  10.0               0.375                 350.0   \n",
              "\n",
              "     incinerator exit     Steam header pressugre    steam header temp   \\\n",
              "0              8.542001                     177.0               0.0368   \n",
              "1              8.496000                     178.0               0.0368   \n",
              "2              8.440001                     177.0               0.0368   \n",
              "3              8.390000                     176.0               0.0384   \n",
              "4              8.364000                     176.0               0.0368   \n",
              "\n",
              "    Steam Flow   \n",
              "0          0.04  \n",
              "1          0.04  \n",
              "2          0.04  \n",
              "3          0.04  \n",
              "4          0.04  "
            ]
          },
          "metadata": {
            "tags": []
          },
          "execution_count": 54
        }
      ]
    },
    {
      "metadata": {
        "id": "vIBxdrICsHfn",
        "colab_type": "code",
        "outputId": "682f685e-c44b-4d58-a591-f8fc4aad703a",
        "colab": {
          "base_uri": "https://localhost:8080/",
          "height": 50
        }
      },
      "cell_type": "code",
      "source": [
        "data.isnull().values.any()\n",
        "data=data.dropna()\n",
        "print(data.shape)\n",
        "data.isnull().sum().sum()"
      ],
      "execution_count": 0,
      "outputs": [
        {
          "output_type": "stream",
          "text": [
            "(23829, 7)\n"
          ],
          "name": "stdout"
        },
        {
          "output_type": "execute_result",
          "data": {
            "text/plain": [
              "0"
            ]
          },
          "metadata": {
            "tags": []
          },
          "execution_count": 55
        }
      ]
    },
    {
      "metadata": {
        "id": "b7ogrxwCf_ja",
        "colab_type": "code",
        "outputId": "edf346c2-2357-4930-b3f5-66a534a03361",
        "colab": {
          "base_uri": "https://localhost:8080/",
          "height": 34
        }
      },
      "cell_type": "code",
      "source": [
        "data.shape"
      ],
      "execution_count": 0,
      "outputs": [
        {
          "output_type": "execute_result",
          "data": {
            "text/plain": [
              "(23829, 7)"
            ]
          },
          "metadata": {
            "tags": []
          },
          "execution_count": 56
        }
      ]
    },
    {
      "metadata": {
        "id": "1pimGvjwhfHs",
        "colab_type": "code",
        "outputId": "14d4de57-67e3-4515-de94-c91c73b2613d",
        "colab": {
          "base_uri": "https://localhost:8080/",
          "height": 34
        }
      },
      "cell_type": "code",
      "source": [
        "x_data = data.values[:, :4]\n",
        "x_data.shape"
      ],
      "execution_count": 0,
      "outputs": [
        {
          "output_type": "execute_result",
          "data": {
            "text/plain": [
              "(23829, 4)"
            ]
          },
          "metadata": {
            "tags": []
          },
          "execution_count": 57
        }
      ]
    },
    {
      "metadata": {
        "id": "4DFjXPVzhs76",
        "colab_type": "code",
        "outputId": "c64bb92c-03f6-4705-d003-5af666c5e700",
        "colab": {
          "base_uri": "https://localhost:8080/",
          "height": 50
        }
      },
      "cell_type": "code",
      "source": [
        "print(type(x_data))\n",
        "print(\"Shape :\", x_data.shape)"
      ],
      "execution_count": 0,
      "outputs": [
        {
          "output_type": "stream",
          "text": [
            "<class 'numpy.ndarray'>\n",
            "Shape : (23829, 4)\n"
          ],
          "name": "stdout"
        }
      ]
    },
    {
      "metadata": {
        "id": "HVRS8v9iiLR7",
        "colab_type": "code",
        "outputId": "0ae6c6e1-7f24-4da5-a29f-a29f780044e4",
        "colab": {
          "base_uri": "https://localhost:8080/",
          "height": 34
        }
      },
      "cell_type": "code",
      "source": [
        "y_data = data.values[:, 4:]\n",
        "y_data.shape"
      ],
      "execution_count": 0,
      "outputs": [
        {
          "output_type": "execute_result",
          "data": {
            "text/plain": [
              "(23829, 3)"
            ]
          },
          "metadata": {
            "tags": []
          },
          "execution_count": 59
        }
      ]
    },
    {
      "metadata": {
        "id": "BOHxpMkAU2Oi",
        "colab_type": "code",
        "outputId": "17727d5a-90f3-45c0-89ff-cc077d9b915b",
        "colab": {
          "base_uri": "https://localhost:8080/",
          "height": 34
        }
      },
      "cell_type": "code",
      "source": [
        "data.isnull().values.any()"
      ],
      "execution_count": 0,
      "outputs": [
        {
          "output_type": "execute_result",
          "data": {
            "text/plain": [
              "False"
            ]
          },
          "metadata": {
            "tags": []
          },
          "execution_count": 60
        }
      ]
    },
    {
      "metadata": {
        "id": "NicGfeOpirMb",
        "colab_type": "code",
        "outputId": "670099ed-0852-4033-b366-ab47f156125a",
        "colab": {
          "base_uri": "https://localhost:8080/",
          "height": 50
        }
      },
      "cell_type": "code",
      "source": [
        "print(type(y_data))\n",
        "print(\"Shape :\", y_data.shape)"
      ],
      "execution_count": 0,
      "outputs": [
        {
          "output_type": "stream",
          "text": [
            "<class 'numpy.ndarray'>\n",
            "Shape : (23829, 3)\n"
          ],
          "name": "stdout"
        }
      ]
    },
    {
      "metadata": {
        "id": "9sINVjHRiwoL",
        "colab_type": "code",
        "colab": {}
      },
      "cell_type": "code",
      "source": [
        "train_split=0.9"
      ],
      "execution_count": 0,
      "outputs": []
    },
    {
      "metadata": {
        "id": "VQPM5uF7kUB7",
        "colab_type": "code",
        "outputId": "72a6fda1-ff2a-462e-e656-b13052019554",
        "colab": {
          "base_uri": "https://localhost:8080/",
          "height": 50
        }
      },
      "cell_type": "code",
      "source": [
        "num_data = len(x_data)\n",
        "num_train = int(train_split * num_data)\n",
        "print(\"Total no of examples :\",num_data)\n",
        "print(\"Total no of training examples :\",num_train)"
      ],
      "execution_count": 0,
      "outputs": [
        {
          "output_type": "stream",
          "text": [
            "Total no of examples : 23829\n",
            "Total no of training examples : 21446\n"
          ],
          "name": "stdout"
        }
      ]
    },
    {
      "metadata": {
        "id": "Iso_f61enCJc",
        "colab_type": "code",
        "outputId": "7d6db3e1-36c0-499e-b450-30e993bcaaf7",
        "colab": {
          "base_uri": "https://localhost:8080/",
          "height": 34
        }
      },
      "cell_type": "code",
      "source": [
        "x_train = x_data[0:21000]\n",
        "x_test = x_data[num_train:]\n",
        "len(x_train) + len(x_test)"
      ],
      "execution_count": 0,
      "outputs": [
        {
          "output_type": "execute_result",
          "data": {
            "text/plain": [
              "23383"
            ]
          },
          "metadata": {
            "tags": []
          },
          "execution_count": 64
        }
      ]
    },
    {
      "metadata": {
        "id": "JSgoOm8Mnonc",
        "colab_type": "code",
        "outputId": "d5ccc21c-49e4-487e-a7c7-b635eda2b93e",
        "colab": {
          "base_uri": "https://localhost:8080/",
          "height": 34
        }
      },
      "cell_type": "code",
      "source": [
        "y_train = y_data[0:21000]\n",
        "y_test = y_data[num_train:]\n",
        "len(y_train) + len(y_test)"
      ],
      "execution_count": 0,
      "outputs": [
        {
          "output_type": "execute_result",
          "data": {
            "text/plain": [
              "23383"
            ]
          },
          "metadata": {
            "tags": []
          },
          "execution_count": 65
        }
      ]
    },
    {
      "metadata": {
        "id": "4612GY9QnrZM",
        "colab_type": "code",
        "outputId": "20417ed9-e899-4294-8491-c6b226af18f8",
        "colab": {
          "base_uri": "https://localhost:8080/",
          "height": 34
        }
      },
      "cell_type": "code",
      "source": [
        "num_x_signals = x_data.shape[1]\n",
        "print(\"The number of features in input :\",num_x_signals)"
      ],
      "execution_count": 0,
      "outputs": [
        {
          "output_type": "stream",
          "text": [
            "The number of features in input : 4\n"
          ],
          "name": "stdout"
        }
      ]
    },
    {
      "metadata": {
        "id": "vXOIexVEoJHc",
        "colab_type": "code",
        "outputId": "548fec05-3479-43b7-b81f-0051e9396c3a",
        "colab": {
          "base_uri": "https://localhost:8080/",
          "height": 34
        }
      },
      "cell_type": "code",
      "source": [
        "num_y_signals = y_data.shape[1]\n",
        "print(\"The number of features in output :\",num_y_signals)"
      ],
      "execution_count": 0,
      "outputs": [
        {
          "output_type": "stream",
          "text": [
            "The number of features in output : 3\n"
          ],
          "name": "stdout"
        }
      ]
    },
    {
      "metadata": {
        "id": "iRx0SLWapDo0",
        "colab_type": "code",
        "outputId": "e6cf17d7-6bfc-4882-d05d-fc59df354a5e",
        "colab": {
          "base_uri": "https://localhost:8080/",
          "height": 134
        }
      },
      "cell_type": "code",
      "source": [
        "x_train"
      ],
      "execution_count": 0,
      "outputs": [
        {
          "output_type": "execute_result",
          "data": {
            "text/plain": [
              "array([[9.00000000e+00, 3.49999990e-01, 3.66000000e+02, 8.54200077e+00],\n",
              "       [1.00000000e+01, 3.49999990e-01, 3.63000000e+02, 8.49600029e+00],\n",
              "       [9.00000000e+00, 4.00000010e-01, 3.58000000e+02, 8.44000053e+00],\n",
              "       ...,\n",
              "       [1.68900000e+01, 9.00000000e+00, 2.20700000e+01, 8.88000000e+02],\n",
              "       [1.69100000e+01, 9.00000000e+00, 2.20700000e+01, 8.85000000e+02],\n",
              "       [1.69200000e+01, 9.00000000e+00, 2.20400000e+01, 8.75000000e+02]])"
            ]
          },
          "metadata": {
            "tags": []
          },
          "execution_count": 68
        }
      ]
    },
    {
      "metadata": {
        "id": "joOpcWYAoK0s",
        "colab_type": "code",
        "outputId": "264079d4-a691-4662-a3b2-430ab27ba397",
        "colab": {
          "base_uri": "https://localhost:8080/",
          "height": 50
        }
      },
      "cell_type": "code",
      "source": [
        "print(\"Min:\", np.min(y_test))\n",
        "print(\"Max:\", np.max(y_test))"
      ],
      "execution_count": 0,
      "outputs": [
        {
          "output_type": "stream",
          "text": [
            "Min: 0.0\n",
            "Max: 187.0\n"
          ],
          "name": "stdout"
        }
      ]
    },
    {
      "metadata": {
        "id": "GuigL9VEo2I9",
        "colab_type": "code",
        "colab": {}
      },
      "cell_type": "code",
      "source": [
        "x_scaler = MinMaxScaler()"
      ],
      "execution_count": 0,
      "outputs": []
    },
    {
      "metadata": {
        "id": "6rpEShQrsgs-",
        "colab_type": "code",
        "colab": {}
      },
      "cell_type": "code",
      "source": [
        "x_train_scaled = x_scaler.fit_transform(x_train)"
      ],
      "execution_count": 0,
      "outputs": []
    },
    {
      "metadata": {
        "id": "wAMrlJsFtAa-",
        "colab_type": "code",
        "outputId": "85468c1b-31f2-4208-efe3-d4fa6c3a3c18",
        "colab": {
          "base_uri": "https://localhost:8080/",
          "height": 50
        }
      },
      "cell_type": "code",
      "source": [
        "print(\"Min:\", np.min(x_train_scaled))\n",
        "print(\"Max:\", np.max(x_train_scaled))"
      ],
      "execution_count": 0,
      "outputs": [
        {
          "output_type": "stream",
          "text": [
            "Min: 0.0\n",
            "Max: 1.0\n"
          ],
          "name": "stdout"
        }
      ]
    },
    {
      "metadata": {
        "id": "rbDQSQRZtDqg",
        "colab_type": "code",
        "colab": {}
      },
      "cell_type": "code",
      "source": [
        "x_test_scaled = x_scaler.transform(x_test)"
      ],
      "execution_count": 0,
      "outputs": []
    },
    {
      "metadata": {
        "id": "6XDbTo4ztJgP",
        "colab_type": "code",
        "outputId": "3b19fd77-9f42-481e-ca54-c652be0881a5",
        "colab": {
          "base_uri": "https://localhost:8080/",
          "height": 50
        }
      },
      "cell_type": "code",
      "source": [
        "print(\"Min:\", np.min(x_test_scaled))\n",
        "print(\"Max:\", np.max(x_test_scaled))"
      ],
      "execution_count": 0,
      "outputs": [
        {
          "output_type": "stream",
          "text": [
            "Min: 0.0006905055487053021\n",
            "Max: 1.0267527675276753\n"
          ],
          "name": "stdout"
        }
      ]
    },
    {
      "metadata": {
        "id": "XoF_Zn52tR9u",
        "colab_type": "code",
        "colab": {}
      },
      "cell_type": "code",
      "source": [
        "y_scaler = MinMaxScaler()\n",
        "y_train_scaled = y_scaler.fit_transform(y_train)\n",
        "y_test_scaled = y_scaler.transform(y_test)"
      ],
      "execution_count": 0,
      "outputs": []
    },
    {
      "metadata": {
        "id": "sP-3On2aMYke",
        "colab_type": "code",
        "outputId": "34c85e00-3ed5-41bd-ff27-0a9303038881",
        "colab": {
          "base_uri": "https://localhost:8080/",
          "height": 50
        }
      },
      "cell_type": "code",
      "source": [
        "print(x_train_scaled.shape)\n",
        "print(y_train_scaled.shape)"
      ],
      "execution_count": 0,
      "outputs": [
        {
          "output_type": "stream",
          "text": [
            "(21000, 4)\n",
            "(21000, 3)\n"
          ],
          "name": "stdout"
        }
      ]
    },
    {
      "metadata": {
        "id": "PUcSDVTDV3od",
        "colab_type": "code",
        "colab": {}
      },
      "cell_type": "code",
      "source": [
        "def batch_generator(batch_size, sequence_length):\n",
        "    \"\"\"\n",
        "    Generator function for creating random batches of training-data.\n",
        "    \"\"\"\n",
        "    \n",
        "    # Infinite loop.\n",
        "    while True:\n",
        "        # Allocate a new array for the batch of input-signals.\n",
        "        x_shape = (batch_size, sequence_length, num_x_signals)\n",
        "        x_batch = np.zeros(shape=x_shape, dtype=np.float16)\n",
        "\n",
        "        # Allocate a new array for the batch of output-signals.\n",
        "        y_shape = (batch_size, sequence_length, num_y_signals)\n",
        "        y_batch = np.zeros(shape=y_shape, dtype=np.float16)\n",
        "\n",
        "        # Fill the batch with random sequences of data.\n",
        "        idx=0\n",
        "        for i in range(batch_size):\n",
        "            # Get a random start-index.\n",
        "            # This points somewhere into the training-data.\n",
        "            \n",
        "            # Copy the sequences of data starting at this index.\n",
        "            x_batch[i] = x_train_scaled[idx:idx+sequence_length]\n",
        "            y_batch[i] = y_train_scaled[idx:idx+sequence_length]\n",
        "            idx+=sequence_length\n",
        "        \n",
        "        yield (x_batch, y_batch)"
      ],
      "execution_count": 0,
      "outputs": []
    },
    {
      "metadata": {
        "id": "jdI8XuGoZirv",
        "colab_type": "code",
        "outputId": "0e9ba8f3-4bb9-41d5-ec79-1d6a2df6f1f1",
        "colab": {
          "base_uri": "https://localhost:8080/",
          "height": 34
        }
      },
      "cell_type": "code",
      "source": [
        "batch_size = 21\n",
        "sequence_length=1000\n",
        "sequence_length"
      ],
      "execution_count": 0,
      "outputs": [
        {
          "output_type": "execute_result",
          "data": {
            "text/plain": [
              "1000"
            ]
          },
          "metadata": {
            "tags": []
          },
          "execution_count": 78
        }
      ]
    },
    {
      "metadata": {
        "id": "3dBAgPMPZxKo",
        "colab_type": "code",
        "colab": {}
      },
      "cell_type": "code",
      "source": [
        "generator = batch_generator(batch_size=batch_size,\n",
        "                            sequence_length=sequence_length)"
      ],
      "execution_count": 0,
      "outputs": []
    },
    {
      "metadata": {
        "id": "ytqUt8iIaX_6",
        "colab_type": "code",
        "colab": {}
      },
      "cell_type": "code",
      "source": [
        "x_batch, y_batch = next(generator)"
      ],
      "execution_count": 0,
      "outputs": []
    },
    {
      "metadata": {
        "id": "4Uk3rbqyajWQ",
        "colab_type": "code",
        "outputId": "c38756d0-6ef9-48af-a749-920436510f5a",
        "colab": {
          "base_uri": "https://localhost:8080/",
          "height": 50
        }
      },
      "cell_type": "code",
      "source": [
        "print(x_batch.shape)\n",
        "print(y_batch.shape)"
      ],
      "execution_count": 0,
      "outputs": [
        {
          "output_type": "stream",
          "text": [
            "(21, 1000, 4)\n",
            "(21, 1000, 3)\n"
          ],
          "name": "stdout"
        }
      ]
    },
    {
      "metadata": {
        "id": "D7XBT21YajTg",
        "colab_type": "code",
        "outputId": "80c441a7-99ad-4af3-b628-243ca3699c86",
        "colab": {
          "base_uri": "https://localhost:8080/",
          "height": 364
        }
      },
      "cell_type": "code",
      "source": [
        "batch = 0   # First sequence in the batch.\n",
        "signal = 0  # First signal from the 20 input-signals.\n",
        "seq = x_batch[batch, :, signal]\n",
        "plt.plot(seq)"
      ],
      "execution_count": 0,
      "outputs": [
        {
          "output_type": "execute_result",
          "data": {
            "text/plain": [
              "[<matplotlib.lines.Line2D at 0x7f596f44c128>]"
            ]
          },
          "metadata": {
            "tags": []
          },
          "execution_count": 82
        },
        {
          "output_type": "display_data",
          "data": {
            "image/png": "[encoded data removed]",
            "text/plain": [
              "<Figure size 576x396 with 1 Axes>"
            ]
          },
          "metadata": {
            "tags": []
          }
        }
      ]
    },
    {
      "metadata": {
        "id": "xUujZogVat7t",
        "colab_type": "code",
        "outputId": "b15d52bf-674a-4542-ad8f-484f53c23869",
        "colab": {
          "base_uri": "https://localhost:8080/",
          "height": 364
        }
      },
      "cell_type": "code",
      "source": [
        "seq = y_batch[batch, :, signal]\n",
        "plt.plot(seq)"
      ],
      "execution_count": 0,
      "outputs": [
        {
          "output_type": "execute_result",
          "data": {
            "text/plain": [
              "[<matplotlib.lines.Line2D at 0x7f596f425e48>]"
            ]
          },
          "metadata": {
            "tags": []
          },
          "execution_count": 83
        },
        {
          "output_type": "display_data",
          "data": {
            "image/png": "[encoded data removed]",
            "text/plain": [
              "<Figure size 576x396 with 1 Axes>"
            ]
          },
          "metadata": {
            "tags": []
          }
        }
      ]
    },
    {
      "metadata": {
        "id": "17thoEbCtk8e",
        "colab_type": "code",
        "colab": {}
      },
      "cell_type": "code",
      "source": [
        "validation_data = (np.expand_dims(x_test_scaled, axis=0),\n",
        "                   np.expand_dims(y_test_scaled, axis=0))"
      ],
      "execution_count": 0,
      "outputs": []
    },
    {
      "metadata": {
        "id": "4RFc3vK6vNjg",
        "colab_type": "code",
        "colab": {}
      },
      "cell_type": "code",
      "source": [
        "from tensorflow.python.keras.models import Sequential\n",
        "from tensorflow.python.keras.layers import Input, Dense, GRU, Embedding, LSTM\n",
        "from tensorflow.python.keras.optimizers import RMSprop\n",
        "from tensorflow.python.keras.callbacks import EarlyStopping, ModelCheckpoint, TensorBoard, ReduceLROnPlateau"
      ],
      "execution_count": 0,
      "outputs": []
    },
    {
      "metadata": {
        "id": "ziSVRCmZvQeQ",
        "colab_type": "code",
        "colab": {}
      },
      "cell_type": "code",
      "source": [
        "model=Sequential()"
      ],
      "execution_count": 0,
      "outputs": []
    },
    {
      "metadata": {
        "id": "PInJBJVMwPVh",
        "colab_type": "code",
        "outputId": "3c9f420e-4027-48b1-f3f7-d11fc66296fb",
        "colab": {
          "base_uri": "https://localhost:8080/",
          "height": 87
        }
      },
      "cell_type": "code",
      "source": [
        "model.add(LSTM(units=512,\n",
        "              return_sequences=True,\n",
        "              input_shape=(None, num_x_signals,)))"
      ],
      "execution_count": 0,
      "outputs": [
        {
          "output_type": "stream",
          "text": [
            "WARNING:tensorflow:From /usr/local/lib/python3.6/dist-packages/tensorflow/python/ops/resource_variable_ops.py:435: colocate_with (from tensorflow.python.framework.ops) is deprecated and will be removed in a future version.\n",
            "Instructions for updating:\n",
            "Colocations handled automatically by placer.\n"
          ],
          "name": "stdout"
        }
      ]
    },
    {
      "metadata": {
        "id": "j0YMQyRMwrVw",
        "colab_type": "code",
        "colab": {}
      },
      "cell_type": "code",
      "source": [
        "model.add(Dense(num_y_signals, activation='sigmoid'))"
      ],
      "execution_count": 0,
      "outputs": []
    },
    {
      "metadata": {
        "id": "g_nu7VmDwz6f",
        "colab_type": "code",
        "colab": {}
      },
      "cell_type": "code",
      "source": [
        "if False:\n",
        "    from tensorflow.python.keras.initializers import RandomUniform\n",
        "\n",
        "    # Maybe use lower init-ranges.\n",
        "    init = RandomUniform(minval=-0.05, maxval=0.05)\n",
        "\n",
        "    model.add(Dense(num_y_signals,\n",
        "                    activation='linear',\n",
        "                    kernel_initializer=init))"
      ],
      "execution_count": 0,
      "outputs": []
    },
    {
      "metadata": {
        "id": "MwlPaDtfbx3H",
        "colab_type": "code",
        "colab": {}
      },
      "cell_type": "code",
      "source": [
        "warmup_steps = 50"
      ],
      "execution_count": 0,
      "outputs": []
    },
    {
      "metadata": {
        "id": "yMdwKE8gxDUv",
        "colab_type": "code",
        "colab": {}
      },
      "cell_type": "code",
      "source": [
        "def loss_mse_warmup(y_true, y_pred):\n",
        "    \"\"\"\n",
        "    Calculate the Mean Squared Error between y_true and y_pred,\n",
        "    but ignore the beginning \"warmup\" part of the sequences.\n",
        "    \n",
        "    y_true is the desired output.\n",
        "    y_pred is the model's output.\n",
        "    \"\"\"\n",
        "\n",
        "    # The shape of both input tensors are:\n",
        "    # [batch_size, sequence_length, num_y_signals].\n",
        "\n",
        "    # Ignore the \"warmup\" parts of the sequences\n",
        "    # by taking slices of the tensors.\n",
        "    y_true_slice = y_true[:, warmup_steps:, :]\n",
        "    y_pred_slice = y_pred[:, warmup_steps:, :]\n",
        "\n",
        "    # These sliced tensors both have this shape:\n",
        "    # [batch_size, sequence_length - warmup_steps, num_y_signals]\n",
        "\n",
        "    # Calculate the MSE loss for each value in these tensors.\n",
        "    # This outputs a 3-rank tensor of the same shape.\n",
        "    loss = tf.losses.mean_squared_error(labels=y_true_slice,\n",
        "                                        predictions=y_pred_slice)\n",
        "\n",
        "    # Keras may reduce this across the first axis (the batch)\n",
        "    # but the semantics are unclear, so to be sure we use\n",
        "    # the loss across the entire tensor, we reduce it to a\n",
        "    # single scalar with the mean function.\n",
        "    loss_mean = tf.reduce_mean(loss)\n",
        "\n",
        "    return loss_mean"
      ],
      "execution_count": 0,
      "outputs": []
    },
    {
      "metadata": {
        "id": "0nZbnMH76LuD",
        "colab_type": "code",
        "colab": {}
      },
      "cell_type": "code",
      "source": [
        "optimizer = RMSprop(lr=1e-3)"
      ],
      "execution_count": 0,
      "outputs": []
    },
    {
      "metadata": {
        "id": "UeM1pjLR6ogk",
        "colab_type": "code",
        "outputId": "082834e8-ea6b-4ac8-8b8e-2c080240f327",
        "colab": {
          "base_uri": "https://localhost:8080/",
          "height": 87
        }
      },
      "cell_type": "code",
      "source": [
        "model.compile(loss=loss_mse_warmup, optimizer=optimizer)"
      ],
      "execution_count": 0,
      "outputs": [
        {
          "output_type": "stream",
          "text": [
            "WARNING:tensorflow:From /usr/local/lib/python3.6/dist-packages/tensorflow/python/ops/losses/losses_impl.py:667: to_float (from tensorflow.python.ops.math_ops) is deprecated and will be removed in a future version.\n",
            "Instructions for updating:\n",
            "Use tf.cast instead.\n"
          ],
          "name": "stdout"
        }
      ]
    },
    {
      "metadata": {
        "id": "RLpu2Nlw6rOl",
        "colab_type": "code",
        "outputId": "ed9c6390-4b79-4795-d891-64518a506fc6",
        "colab": {
          "base_uri": "https://localhost:8080/",
          "height": 202
        }
      },
      "cell_type": "code",
      "source": [
        "model.summary()"
      ],
      "execution_count": 0,
      "outputs": [
        {
          "output_type": "stream",
          "text": [
            "_________________________________________________________________\n",
            "Layer (type)                 Output Shape              Param #   \n",
            "=================================================================\n",
            "lstm (LSTM)                  (None, None, 512)         1058816   \n",
            "_________________________________________________________________\n",
            "dense (Dense)                (None, None, 3)           1539      \n",
            "=================================================================\n",
            "Total params: 1,060,355\n",
            "Trainable params: 1,060,355\n",
            "Non-trainable params: 0\n",
            "_________________________________________________________________\n"
          ],
          "name": "stdout"
        }
      ]
    },
    {
      "metadata": {
        "id": "BqJWWRGLKWFq",
        "colab_type": "code",
        "colab": {}
      },
      "cell_type": "code",
      "source": [
        "path_checkpoint = '23_checkpoint.keras'\n",
        "callback_checkpoint = ModelCheckpoint(filepath=path_checkpoint,\n",
        "                                      monitor='val_loss',\n",
        "                                      verbose=1,\n",
        "                                      save_weights_only=True,\n",
        "                                      save_best_only=True)"
      ],
      "execution_count": 0,
      "outputs": []
    },
    {
      "metadata": {
        "id": "eKWnzaV6cT0U",
        "colab_type": "code",
        "colab": {}
      },
      "cell_type": "code",
      "source": [
        "callback_early_stopping = EarlyStopping(monitor='val_loss',\n",
        "                                        patience=5, verbose=1)"
      ],
      "execution_count": 0,
      "outputs": []
    },
    {
      "metadata": {
        "id": "VNEMTCbdcTxh",
        "colab_type": "code",
        "colab": {}
      },
      "cell_type": "code",
      "source": [
        "callback_tensorboard = TensorBoard(log_dir='./23_logs/',\n",
        "                                   histogram_freq=0,\n",
        "                                   write_graph=False)"
      ],
      "execution_count": 0,
      "outputs": []
    },
    {
      "metadata": {
        "id": "PKsZztZocTua",
        "colab_type": "code",
        "colab": {}
      },
      "cell_type": "code",
      "source": [
        "callback_reduce_lr = ReduceLROnPlateau(monitor='val_loss',\n",
        "                                       factor=0.1,\n",
        "                                       min_lr=1e-4,\n",
        "                                       patience=0,\n",
        "                                       verbose=1)"
      ],
      "execution_count": 0,
      "outputs": []
    },
    {
      "metadata": {
        "id": "BKo51BrAcaP1",
        "colab_type": "code",
        "colab": {}
      },
      "cell_type": "code",
      "source": [
        "callbacks = [callback_early_stopping,\n",
        "             callback_checkpoint,\n",
        "             callback_tensorboard,\n",
        "             callback_reduce_lr]"
      ],
      "execution_count": 0,
      "outputs": []
    },
    {
      "metadata": {
        "id": "hq21KUhT-iX_",
        "colab_type": "text"
      },
      "cell_type": "markdown",
      "source": [
        "res=model.fit(trainng data, epoch)\n"
      ]
    },
    {
      "metadata": {
        "id": "JLiZzJqs7bsz",
        "colab_type": "code",
        "outputId": "e6263da0-f35e-4ca1-9ca9-ef67e5cecb35",
        "colab": {
          "base_uri": "https://localhost:8080/",
          "height": 874
        }
      },
      "cell_type": "code",
      "source": [
        "model.fit_generator(generator=generator,\n",
        "                    epochs=50,\n",
        "                    steps_per_epoch=100,\n",
        "                    validation_data=validation_data,\n",
        "                    callbacks=callbacks)"
      ],
      "execution_count": 0,
      "outputs": [
        {
          "output_type": "stream",
          "text": [
            "Epoch 1/50\n",
            "1/1 [==============================] - 1s 950ms/sample - loss: 1.2450e-04\n",
            "\n",
            "Epoch 00001: val_loss improved from 0.00031 to 0.00012, saving model to 23_checkpoint.keras\n",
            "100/100 [==============================] - 212s 2s/step - loss: 0.0259 - val_loss: 1.2450e-04\n",
            "Epoch 2/50\n",
            "1/1 [==============================] - 1s 950ms/sample - loss: 8.1832e-05\n",
            "\n",
            "Epoch 00002: val_loss improved from 0.00012 to 0.00008, saving model to 23_checkpoint.keras\n",
            "\n",
            "Epoch 00002: ReduceLROnPlateau reducing learning rate to 0.00010000000474974513.\n",
            "100/100 [==============================] - 213s 2s/step - loss: 0.0183 - val_loss: 8.1832e-05\n",
            "Epoch 3/50\n",
            "1/1 [==============================] - 1s 955ms/sample - loss: 5.4097e-05\n",
            "\n",
            "Epoch 00003: val_loss improved from 0.00008 to 0.00005, saving model to 23_checkpoint.keras\n",
            "\n",
            "Epoch 00003: ReduceLROnPlateau reducing learning rate to 0.0001.\n",
            "100/100 [==============================] - 212s 2s/step - loss: 0.0073 - val_loss: 5.4097e-05\n",
            "Epoch 4/50\n",
            "1/1 [==============================] - 1s 921ms/sample - loss: 5.0389e-05\n",
            "\n",
            "Epoch 00004: val_loss improved from 0.00005 to 0.00005, saving model to 23_checkpoint.keras\n",
            "100/100 [==============================] - 213s 2s/step - loss: 0.0051 - val_loss: 5.0389e-05\n",
            "Epoch 5/50\n",
            "1/1 [==============================] - 1s 954ms/sample - loss: 5.1437e-05\n",
            "\n",
            "Epoch 00005: val_loss did not improve from 0.00005\n",
            "100/100 [==============================] - 212s 2s/step - loss: 0.0036 - val_loss: 5.1437e-05\n",
            "Epoch 6/50\n",
            "1/1 [==============================] - 1s 954ms/sample - loss: 6.0826e-05\n",
            "\n",
            "Epoch 00006: val_loss did not improve from 0.00005\n",
            "100/100 [==============================] - 212s 2s/step - loss: 0.0034 - val_loss: 6.0826e-05\n",
            "Epoch 7/50\n",
            "1/1 [==============================] - 1s 951ms/sample - loss: 5.6558e-05\n",
            "\n",
            "Epoch 00007: val_loss did not improve from 0.00005\n",
            "100/100 [==============================] - 212s 2s/step - loss: 0.0035 - val_loss: 5.6558e-05\n",
            "Epoch 8/50\n",
            "1/1 [==============================] - 1s 955ms/sample - loss: 6.1294e-05\n",
            "\n",
            "Epoch 00008: val_loss did not improve from 0.00005\n",
            "100/100 [==============================] - 212s 2s/step - loss: 0.0031 - val_loss: 6.1294e-05\n",
            "Epoch 9/50\n",
            "1/1 [==============================] - 1s 956ms/sample - loss: 5.9295e-05\n",
            "\n",
            "Epoch 00009: val_loss did not improve from 0.00005\n",
            "100/100 [==============================] - 212s 2s/step - loss: 0.0031 - val_loss: 5.9295e-05\n",
            "Epoch 00009: early stopping\n"
          ],
          "name": "stdout"
        },
        {
          "output_type": "execute_result",
          "data": {
            "text/plain": [
              "<tensorflow.python.keras.callbacks.History at 0x7f59615ecd68>"
            ]
          },
          "metadata": {
            "tags": []
          },
          "execution_count": 103
        }
      ]
    },
    {
      "metadata": {
        "id": "P8xSLYu2gJIa",
        "colab_type": "code",
        "colab": {}
      },
      "cell_type": "code",
      "source": [
        "try:\n",
        "    model.load_weights(path_checkpoint)\n",
        "except Exception as error:\n",
        "    print(\"Error trying to load checkpoint.\")\n",
        "    print(error)"
      ],
      "execution_count": 0,
      "outputs": []
    },
    {
      "metadata": {
        "id": "W8uHu-mAsnEC",
        "colab_type": "code",
        "outputId": "e82270cd-9126-465d-9738-f65a95fd0fdb",
        "colab": {
          "base_uri": "https://localhost:8080/",
          "height": 50
        }
      },
      "cell_type": "code",
      "source": [
        "result = model.evaluate(x=np.expand_dims(x_test_scaled, axis=0),\n",
        "                        y=np.expand_dims(y_test_scaled, axis=0))\n",
        "\n",
        "print(\"loss (test-set):\", result)"
      ],
      "execution_count": 0,
      "outputs": [
        {
          "output_type": "stream",
          "text": [
            "\r1/1 [==============================] - 1s 1s/sample - loss: 5.0389e-05\n",
            "loss (test-set): 5.038872768636793e-05\n"
          ],
          "name": "stdout"
        }
      ]
    },
    {
      "metadata": {
        "id": "7myYwxqvyk8V",
        "colab_type": "code",
        "colab": {}
      },
      "cell_type": "code",
      "source": [
        "target_names=[' Steam header pressugre ',' steam header temp ', ' Steam Flow ']"
      ],
      "execution_count": 0,
      "outputs": []
    },
    {
      "metadata": {
        "id": "B4sGeMKqsxNN",
        "colab_type": "code",
        "colab": {}
      },
      "cell_type": "code",
      "source": [
        "def plot_comparison(start_idx, length=100, train=True):\n",
        "    \"\"\"\n",
        "    Plot the predicted and true output-signals.\n",
        "    \n",
        "    :param start_idx: Start-index for the time-series.\n",
        "    :param length: Sequence-length to process and plot.\n",
        "    :param train: Boolean whether to use training- or test-set.\n",
        "    \"\"\"\n",
        "    \n",
        "    if train:\n",
        "        # Use training-data.\n",
        "        x = x_train_scaled\n",
        "        y_true = y_train\n",
        "    else:\n",
        "        # Use test-data.\n",
        "        x = x_test_scaled\n",
        "        y_true = y_test\n",
        "    \n",
        "    # End-index for the sequences.\n",
        "    end_idx = start_idx + length\n",
        "    \n",
        "    # Select the sequences from the given start-index and\n",
        "    # of the given length.\n",
        "    x = x[start_idx:end_idx]\n",
        "    y_true = y_true[start_idx:end_idx]\n",
        "    \n",
        "    # Input-signals for the model.\n",
        "    x = np.expand_dims(x, axis=0)\n",
        "\n",
        "    # Use the model to predict the output-signals.\n",
        "    y_pred = model.predict(x)\n",
        "    \n",
        "    # The output of the model is between 0 and 1.\n",
        "    # Do an inverse map to get it back to the scale\n",
        "    # of the original data-set.\n",
        "    y_pred_rescaled = y_scaler.inverse_transform(y_pred[0])\n",
        "    \n",
        "    # For each output-signal.\n",
        "    for signal in range(len(target_names)):\n",
        "        # Get the output-signal predicted by the model.\n",
        "        signal_pred = y_pred_rescaled[:, signal]\n",
        "        \n",
        "        # Get the true output-signal from the data-set.\n",
        "        signal_true = y_true[:, signal]\n",
        "\n",
        "        # Make the plotting-canvas bigger.\n",
        "        plt.figure(figsize=(15,5))\n",
        "        \n",
        "        # Plot and compare the two signals.\n",
        "        plt.plot(signal_true, label='true')\n",
        "        plt.plot(signal_pred, label='pred')\n",
        "        \n",
        "        # Plot grey box for warmup-period.\n",
        "        p = plt.axvspan(0, warmup_steps, facecolor='black', alpha=0.15)\n",
        "        \n",
        "        # Plot labels etc.\n",
        "        plt.ylabel(target_names[signal])\n",
        "        plt.legend()\n",
        "        plt.show()"
      ],
      "execution_count": 0,
      "outputs": []
    },
    {
      "metadata": {
        "id": "RQPsxtW8xvbD",
        "colab_type": "code",
        "outputId": "371e5eb6-b9aa-4d7a-9179-b502bb1a8dac",
        "colab": {
          "base_uri": "https://localhost:8080/",
          "height": 928
        }
      },
      "cell_type": "code",
      "source": [
        "plot_comparison(start_idx=20000, length=1000, train=True)"
      ],
      "execution_count": 0,
      "outputs": [
        {
          "output_type": "display_data",
          "data": {
            "image/png": "[encoded data removed]",
            "text/plain": [
              "<Figure size 1080x360 with 1 Axes>"
            ]
          },
          "metadata": {
            "tags": []
          }
        },
        {
          "output_type": "display_data",
          "data": {
            "image/png": "[encoded data removed]",
            "text/plain": [
              "<Figure size 1080x360 with 1 Axes>"
            ]
          },
          "metadata": {
            "tags": []
          }
        },
        {
          "output_type": "display_data",
          "data": {
            "image/png": "[encoded data removed]",
            "text/plain": [
              "<Figure size 1080x360 with 1 Axes>"
            ]
          },
          "metadata": {
            "tags": []
          }
        }
      ]
    },
    {
      "metadata": {
        "id": "k1C_P0PxyM7O",
        "colab_type": "code",
        "colab": {}
      },
      "cell_type": "code",
      "source": [
        ""
      ],
      "execution_count": 0,
      "outputs": []
    }
  ]
}